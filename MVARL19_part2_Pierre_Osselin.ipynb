{
  "nbformat": 4,
  "nbformat_minor": 0,
  "metadata": {
    "colab": {
      "name": "MVARL19_part2_Pierre_Osselin.ipynb",
      "provenance": [],
      "collapsed_sections": [],
      "toc_visible": true
    },
    "kernelspec": {
      "name": "python3",
      "display_name": "Python 3"
    }
  },
  "cells": [
    {
      "cell_type": "markdown",
      "metadata": {
        "id": "XJ_s4_nhhiyo",
        "colab_type": "text"
      },
      "source": [
        "# Reinforcement Learning with Function Approximation"
      ]
    },
    {
      "cell_type": "code",
      "metadata": {
        "id": "WTOWkpoCiLmL",
        "colab_type": "code",
        "colab": {
          "base_uri": "https://localhost:8080/",
          "height": 589
        },
        "outputId": "e1525b8f-f53a-45a4-eb43-6eb8d1e95cfa"
      },
      "source": [
        "!pip install torch==1.2.0 torchvision pyvirtualdisplay matplotlib seaborn pandas numpy pathlib gym\n",
        "!sudo apt-get install xvfb x11-utils\n",
        "!git clone https://github.com/rlgammazero/mvarl_hands_on.git > /dev/null 2>&1\n",
        "!cd mvarl_hands_on && git pull origin master > /dev/null 2>&1"
      ],
      "execution_count": 25,
      "outputs": [
        {
          "output_type": "stream",
          "text": [
            "Requirement already satisfied: torch==1.2.0 in /usr/local/lib/python3.6/dist-packages (1.2.0)\n",
            "Requirement already satisfied: torchvision in /usr/local/lib/python3.6/dist-packages (0.4.2)\n",
            "Requirement already satisfied: pyvirtualdisplay in /usr/local/lib/python3.6/dist-packages (0.2.4)\n",
            "Requirement already satisfied: matplotlib in /usr/local/lib/python3.6/dist-packages (3.1.1)\n",
            "Requirement already satisfied: seaborn in /usr/local/lib/python3.6/dist-packages (0.9.0)\n",
            "Requirement already satisfied: pandas in /usr/local/lib/python3.6/dist-packages (0.25.3)\n",
            "Requirement already satisfied: numpy in /usr/local/lib/python3.6/dist-packages (1.17.4)\n",
            "Requirement already satisfied: pathlib in /usr/local/lib/python3.6/dist-packages (1.0.1)\n",
            "Requirement already satisfied: gym in /usr/local/lib/python3.6/dist-packages (0.15.4)\n",
            "Requirement already satisfied: pillow>=4.1.1 in /usr/local/lib/python3.6/dist-packages (from torchvision) (4.3.0)\n",
            "Requirement already satisfied: six in /usr/local/lib/python3.6/dist-packages (from torchvision) (1.12.0)\n",
            "Requirement already satisfied: EasyProcess in /usr/local/lib/python3.6/dist-packages (from pyvirtualdisplay) (0.2.7)\n",
            "Requirement already satisfied: kiwisolver>=1.0.1 in /usr/local/lib/python3.6/dist-packages (from matplotlib) (1.1.0)\n",
            "Requirement already satisfied: python-dateutil>=2.1 in /usr/local/lib/python3.6/dist-packages (from matplotlib) (2.6.1)\n",
            "Requirement already satisfied: pyparsing!=2.0.4,!=2.1.2,!=2.1.6,>=2.0.1 in /usr/local/lib/python3.6/dist-packages (from matplotlib) (2.4.5)\n",
            "Requirement already satisfied: cycler>=0.10 in /usr/local/lib/python3.6/dist-packages (from matplotlib) (0.10.0)\n",
            "Requirement already satisfied: scipy>=0.14.0 in /usr/local/lib/python3.6/dist-packages (from seaborn) (1.3.2)\n",
            "Requirement already satisfied: pytz>=2017.2 in /usr/local/lib/python3.6/dist-packages (from pandas) (2018.9)\n",
            "Requirement already satisfied: cloudpickle~=1.2.0 in /usr/local/lib/python3.6/dist-packages (from gym) (1.2.2)\n",
            "Requirement already satisfied: pyglet<=1.3.2,>=1.2.0 in /usr/local/lib/python3.6/dist-packages (from gym) (1.3.2)\n",
            "Requirement already satisfied: opencv-python in /usr/local/lib/python3.6/dist-packages (from gym) (3.4.7.28)\n",
            "Requirement already satisfied: olefile in /usr/local/lib/python3.6/dist-packages (from pillow>=4.1.1->torchvision) (0.46)\n",
            "Requirement already satisfied: setuptools in /usr/local/lib/python3.6/dist-packages (from kiwisolver>=1.0.1->matplotlib) (41.6.0)\n",
            "Requirement already satisfied: future in /usr/local/lib/python3.6/dist-packages (from pyglet<=1.3.2,>=1.2.0->gym) (0.16.0)\n",
            "Reading package lists... Done\n",
            "Building dependency tree       \n",
            "Reading state information... Done\n",
            "x11-utils is already the newest version (7.7+3build1).\n",
            "xvfb is already the newest version (2:1.19.6-1ubuntu4.3).\n",
            "The following package was automatically installed and is no longer required:\n",
            "  libnvidia-common-430\n",
            "Use 'sudo apt autoremove' to remove it.\n",
            "0 upgraded, 0 newly installed, 0 to remove and 32 not upgraded.\n"
          ],
          "name": "stdout"
        }
      ]
    },
    {
      "cell_type": "code",
      "metadata": {
        "id": "gCsyvh4NhjUc",
        "colab_type": "code",
        "colab": {}
      },
      "source": [
        "import torch\n",
        "import torch.nn as nn\n",
        "import torch.nn.functional as F \n",
        "from torch import optim\n",
        "from pathlib import Path\n",
        "import math\n",
        "import base64\n",
        "import itertools\n",
        "import numpy as np\n",
        "import pandas as pd\n",
        "import seaborn as sns\n",
        "\n",
        "import gym\n",
        "from gym.wrappers import Monitor\n",
        "from pprint import pprint\n",
        "from pyvirtualdisplay import Display\n",
        "from IPython import display as ipythondisplay\n",
        "from IPython.display import clear_output\n",
        "\n",
        "# The following code is will be used to visualize the environments.\n",
        "\n",
        "def show_video(directory):\n",
        "    html = []\n",
        "    for mp4 in Path(directory).glob(\"*.mp4\"):\n",
        "        video_b64 = base64.b64encode(mp4.read_bytes())\n",
        "        html.append('''<video alt=\"{}\" autoplay \n",
        "                      loop controls style=\"height: 400px;\">\n",
        "                      <source src=\"data:video/mp4;base64,{}\" type=\"video/mp4\" />\n",
        "                 </video>'''.format(mp4, video_b64.decode('ascii')))\n",
        "    ipythondisplay.display(ipythondisplay.HTML(data=\"<br>\".join(html)))\n",
        "    \n",
        "display = Display(visible=0, size=(1400, 900))\n",
        "display.start();\n",
        "\n",
        "def make_seed(seed):\n",
        "    np.random.seed(seed=seed)\n",
        "    torch.manual_seed(seed=seed)"
      ],
      "execution_count": 0,
      "outputs": []
    },
    {
      "cell_type": "markdown",
      "metadata": {
        "id": "ThnSNaSMhnXa",
        "colab_type": "text"
      },
      "source": [
        "PyTorch is a Python package that provides two high-level features:\n",
        "- Tensor computation (like NumPy) with strong GPU acceleration\n",
        "- Deep neural networks built on a tape-based autograd system\n",
        "\n",
        "At a granular level, PyTorch is a library that consists of the following components:\n",
        "\n",
        "| Component | Description |\n",
        "| ---- | --- |\n",
        "| [**torch**](https://pytorch.org/docs/stable/torch.html) | a Tensor library like NumPy, with strong GPU support |\n",
        "| [**torch.autograd**](https://pytorch.org/docs/stable/autograd.html) | a tape-based automatic differentiation library that supports all differentiable Tensor operations in torch |\n",
        "| [**torch.jit**](https://pytorch.org/docs/stable/jit.html) | a compilation stack (TorchScript) to create serializable and optimizable models from PyTorch code  |\n",
        "| [**torch.nn**](https://pytorch.org/docs/stable/nn.html) | a neural networks library deeply integrated with autograd designed for maximum flexibility |\n",
        "| [**torch.multiprocessing**](https://pytorch.org/docs/stable/multiprocessing.html) | Python multiprocessing, but with magical memory sharing of torch Tensors across processes. Useful for data loading and Hogwild training |\n",
        "| [**torch.utils**](https://pytorch.org/docs/stable/data.html) | DataLoader and other utility functions for convenience |\n",
        "\n",
        "\n",
        "**Tutorials on PyTorch:** https://pytorch.org/tutorials/\n"
      ]
    },
    {
      "cell_type": "markdown",
      "metadata": {
        "id": "WlZQl9TjhuWY",
        "colab_type": "text"
      },
      "source": [
        "## OpenAI gym\n",
        "We will consider environments provided by OpenAI gym\n",
        "This library provides a large number of environments to test RL algorithm.\n",
        "\n",
        "We will focus on the **CartPole-v1** environment in this lab but we encourage you to also test your code on:\n",
        "* **Acrobot-v1**\n",
        "* **MountainCar-v0**\n",
        "\n",
        "| Env Info          \t| CartPole-v1 \t| Acrobot-v1                \t| MountainCar-v0 \t|\n",
        "|-------------------\t|-------------\t|---------------------------\t|----------------\t|\n",
        "| **Observation Space** \t| Box(4)      \t| Box(6)                    \t| Box(2)         \t|\n",
        "| **Action Space**      \t| Discrete(2) \t| Discrete(3)               \t| Discrete(3)    \t|\n",
        "| **Rewards**           \t| 1 per step  \t| -1 if not terminal else 0 \t| -1 per step    \t|\n",
        "\n",
        "A gym environment is loaded with the command `env = gym.make(env_id)`. Once the environment is created, you need to reset it with `observation = env.reset()` and then you can interact with it using the method step: `observation, reward, done, info = env.step(action)`."
      ]
    },
    {
      "cell_type": "code",
      "metadata": {
        "id": "3wfHvW9Hh4H3",
        "colab_type": "code",
        "colab": {}
      },
      "source": [
        "# We load CartPole-v1\n",
        "env = gym.make('CartPole-v1')\n",
        "# We wrap it in order to save our experiment on a file.\n",
        "env = Monitor(env, \"./gym-results\", force=True)"
      ],
      "execution_count": 0,
      "outputs": []
    },
    {
      "cell_type": "code",
      "metadata": {
        "id": "2-fFj5sDiA0C",
        "colab_type": "code",
        "colab": {
          "base_uri": "https://localhost:8080/",
          "height": 420
        },
        "outputId": "a3dc0f16-e270-490b-c70f-3119a880c872"
      },
      "source": [
        "done = False\n",
        "obs = env.reset()\n",
        "while not done:\n",
        "    action = env.action_space.sample()\n",
        "    obs, reward, done, info = env.step(action)\n",
        "env.close()\n",
        "show_video(\"./gym-results\")"
      ],
      "execution_count": 28,
      "outputs": [
        {
          "output_type": "display_data",
          "data": {
            "text/html": [
              "<video alt=\"gym-results/openaigym.video.5.125.video000000.mp4\" autoplay \n",
              "                      loop controls style=\"height: 400px;\">\n",
              "                      <source src=\"data:video/mp4;base64,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\" type=\"video/mp4\" />\n",
              "                 </video>"
            ],
            "text/plain": [
              "<IPython.core.display.HTML object>"
            ]
          },
          "metadata": {
            "tags": []
          }
        }
      ]
    },
    {
      "cell_type": "markdown",
      "metadata": {
        "id": "sd2xLlapilZE",
        "colab_type": "text"
      },
      "source": [
        "## REINFORCE\n",
        "\n",
        "**Q1: Implement the REINFORCE algorithm**\n",
        "\n",
        "The code is splitted in two parts:\n",
        "* The Model class defines the architecture of our neural network which takes as input the current state and returns the policy,\n",
        "* The Agent class is responsible for the training and evaluation procedure. You will need to code the method `optimize_model`."
      ]
    },
    {
      "cell_type": "code",
      "metadata": {
        "id": "iwsQ8NSPiCz7",
        "colab_type": "code",
        "colab": {}
      },
      "source": [
        "class Model(nn.Module):\n",
        "    def __init__(self, dim_observation, n_actions):\n",
        "        super(Model, self).__init__()\n",
        "        \n",
        "        self.n_actions = n_actions\n",
        "        self.dim_observation = dim_observation\n",
        "        \n",
        "        self.net = nn.Sequential(\n",
        "            nn.Linear(in_features=self.dim_observation, out_features=16),\n",
        "            nn.ReLU(),\n",
        "            nn.Linear(in_features=16, out_features=8),\n",
        "            nn.ReLU(),\n",
        "            nn.Linear(in_features=8, out_features=self.n_actions),\n",
        "            nn.Softmax(dim=0)\n",
        "        )\n",
        "        \n",
        "    def forward(self, state):\n",
        "        return self.net(state)\n",
        "    \n",
        "    def select_action(self, state):\n",
        "        p = self.forward(state)\n",
        "        action = torch.multinomial(p, 1)\n",
        "        log_proba = torch.log(p[action])\n",
        "        return action, log_proba"
      ],
      "execution_count": 0,
      "outputs": []
    },
    {
      "cell_type": "markdown",
      "metadata": {
        "id": "xrgtQMYbiwX7",
        "colab_type": "text"
      },
      "source": [
        "Create the model based on the properties of the MDP you want to solve"
      ]
    },
    {
      "cell_type": "code",
      "metadata": {
        "id": "S6ieL_KJirq9",
        "colab_type": "code",
        "colab": {
          "base_uri": "https://localhost:8080/",
          "height": 201
        },
        "outputId": "49986082-e9c5-44ce-edff-8a4dfda62c17"
      },
      "source": [
        "env_id = 'CartPole-v1'\n",
        "env = gym.make(env_id)\n",
        "model = Model(env.observation_space.shape[0], env.action_space.n)\n",
        "print(f'The model we created correspond to:\\n{model}')"
      ],
      "execution_count": 30,
      "outputs": [
        {
          "output_type": "stream",
          "text": [
            "The model we created correspond to:\n",
            "Model(\n",
            "  (net): Sequential(\n",
            "    (0): Linear(in_features=4, out_features=16, bias=True)\n",
            "    (1): ReLU()\n",
            "    (2): Linear(in_features=16, out_features=8, bias=True)\n",
            "    (3): ReLU()\n",
            "    (4): Linear(in_features=8, out_features=2, bias=True)\n",
            "    (5): Softmax(dim=0)\n",
            "  )\n",
            ")\n"
          ],
          "name": "stdout"
        }
      ]
    },
    {
      "cell_type": "markdown",
      "metadata": {
        "id": "WwrVF9kti1e-",
        "colab_type": "text"
      },
      "source": [
        "We provide a base agent that you will need to extend in the next cell with your implementation of `optimize_model`."
      ]
    },
    {
      "cell_type": "code",
      "metadata": {
        "id": "DWvKO66ii1zh",
        "colab_type": "code",
        "colab": {}
      },
      "source": [
        "class BaseAgent:\n",
        "    \n",
        "    def __init__(self, config):\n",
        "        self.config = config\n",
        "        self.env = gym.make(config['env_id'])\n",
        "        make_seed(config['seed'])\n",
        "        self.env.seed(config['seed'])\n",
        "        self.model = Model(self.env.observation_space.shape[0], self.env.action_space.n)\n",
        "        self.gamma = config['gamma']\n",
        "        \n",
        "        # the optimizer used by PyTorch (Stochastic Gradient, Adagrad, Adam, etc.)\n",
        "        self.optimizer = torch.optim.Adam(self.model.net.parameters(), lr=config['learning_rate'])\n",
        "        self.monitor_env = Monitor(env, \"./gym-results\", force=True, video_callable=lambda episode: True)\n",
        "    \n",
        "    # Method to implement\n",
        "    def _compute_returns(self, rewards):\n",
        "        \"\"\"Returns the cumulative discounted rewards at each time step\n",
        "\n",
        "        Parameters\n",
        "        ----------\n",
        "        rewards : array\n",
        "            The array of rewards of one episode\n",
        "\n",
        "        Returns\n",
        "        -------\n",
        "        array\n",
        "            The cumulative discounted rewards at each time step\n",
        "            \n",
        "        Example\n",
        "        -------\n",
        "        for rewards=[1, 2, 3] this method outputs [1 + 2 * gamma + 3 * gamma**2, 2 + 3 * gamma, 3] \n",
        "        \"\"\"\n",
        "\n",
        "        raise NotImplementedError\n",
        "    \n",
        "    # Method to implement\n",
        "    def optimize_model(self, n_trajectories):\n",
        "        \"\"\"Perform a gradient update using n_trajectories\n",
        "\n",
        "        Parameters\n",
        "        ----------\n",
        "        n_trajectories : int\n",
        "            The number of trajectories used to approximate the expectation card(D) in the formula above\n",
        "        \n",
        "        Returns\n",
        "        -------\n",
        "        array\n",
        "            The cumulative discounted rewards of each trajectory\n",
        "        \"\"\"\n",
        "        raise NotImplementedError\n",
        "    \n",
        "    def train(self, n_trajectories, n_update):\n",
        "        \"\"\"Training method\n",
        "\n",
        "        Parameters\n",
        "        ----------\n",
        "        n_trajectories : int\n",
        "            The number of trajectories used to approximate the expected gradient\n",
        "        n_update : int\n",
        "            The number of gradient updates\n",
        "            \n",
        "        \"\"\"\n",
        "        \n",
        "        rewards = []\n",
        "        for episode in range(n_update):\n",
        "            rewards.append(self.optimize_model(n_trajectories))\n",
        "            print(f'Episode {episode + 1}/{n_update}: rewards {round(rewards[-1].mean(), 2)} +/- {round(rewards[-1].std(), 2)}')\n",
        "        \n",
        "        # Plotting\n",
        "        r = pd.DataFrame((itertools.chain(*(itertools.product([i], rewards[i]) for i in range(len(rewards))))), columns=['Epoch', 'Reward'])\n",
        "        sns.lineplot(x=\"Epoch\", y=\"Reward\", data=r, ci='sd');\n",
        "        \n",
        "    def evaluate(self, render=False):\n",
        "        \"\"\"Evaluate the agent on a single trajectory            \n",
        "        \"\"\"\n",
        "        with torch.no_grad():\n",
        "            observation = self.monitor_env.reset()\n",
        "            observation = torch.tensor(observation, dtype=torch.float)\n",
        "            reward_episode = 0\n",
        "            done = False\n",
        "                \n",
        "            while not done:\n",
        "                action, _ = self.model.select_action(observation)\n",
        "                observation, reward, done, info = self.monitor_env.step(int(action))\n",
        "                observation = torch.tensor(observation, dtype=torch.float)\n",
        "                reward_episode += reward\n",
        "            \n",
        "            self.monitor_env.close()\n",
        "            if render:\n",
        "                show_video(\"./gym-results\")\n",
        "                print(f'Reward: {reward_episode}')\n",
        "            print(f'Reward: {reward_episode}')"
      ],
      "execution_count": 0,
      "outputs": []
    },
    {
      "cell_type": "markdown",
      "metadata": {
        "id": "Y6mhw_A3i_8R",
        "colab_type": "text"
      },
      "source": [
        "Finally you can implement your agent"
      ]
    },
    {
      "cell_type": "code",
      "metadata": {
        "id": "lbjP-7WHi9oc",
        "colab_type": "code",
        "colab": {}
      },
      "source": [
        "class REINFORCE(BaseAgent):\n",
        "    \n",
        "    def _compute_returns(self, rewards):\n",
        "        T = len(rewards)\n",
        "        res = np.zeros(T)\n",
        "        gammas = self.gamma**np.arange(T)\n",
        "        for i in range(T):\n",
        "          res[i] = np.sum(rewards[i:]*gammas[:T-i])\n",
        "        return res\n",
        "    \n",
        "        \n",
        "    def optimize_model(self, n_trajectories):\n",
        "        reward_trajectories = []\n",
        "        J = []\n",
        "\n",
        "        for i in range(n_trajectories):\n",
        "            done = False\n",
        "            s0 = self.env.reset()\n",
        "            log_probs = []\n",
        "            rewards = []\n",
        "\n",
        "            while not done:\n",
        "                action, log_prob = self.model.select_action(torch.FloatTensor(s0))\n",
        "                s1, reward, done, info = self.env.step(int(action))\n",
        "\n",
        "                log_probs.append(log_prob)\n",
        "                rewards.append(reward)\n",
        "                s0 = s1\n",
        "            \n",
        "            reward_trajectories.append(np.sum(rewards))\n",
        "            disc_rewards = self._compute_returns(rewards)\n",
        "            for i in range(len(disc_rewards)):\n",
        "                J.append(-disc_rewards[i] * log_probs[i])\n",
        "\n",
        "        self.optimizer.zero_grad()\n",
        "        loss = torch.stack(J).mean()\n",
        "        loss.backward()\n",
        "\n",
        "        # Do the gradient descent step\n",
        "        self.optimizer.step()\n",
        "        return np.array(reward_trajectories)\n",
        "    "
      ],
      "execution_count": 0,
      "outputs": []
    },
    {
      "cell_type": "code",
      "metadata": {
        "id": "vZAo0K8VjCYj",
        "colab_type": "code",
        "colab": {
          "base_uri": "https://localhost:8080/",
          "height": 50
        },
        "outputId": "83456938-1969-48de-a9a8-aa2a0e51bb0a"
      },
      "source": [
        "env_id = 'CartPole-v1'\n",
        "learning_rate = 0.01\n",
        "gamma = 1 \n",
        "seed = 1235\n",
        "\n",
        "config = {\n",
        "    'env_id': env_id,\n",
        "    'learning_rate': learning_rate,\n",
        "    'seed': seed,\n",
        "    'gamma': gamma\n",
        "}\n",
        "\n",
        "print(\"Current config is:\")\n",
        "pprint(config)\n"
      ],
      "execution_count": 33,
      "outputs": [
        {
          "output_type": "stream",
          "text": [
            "Current config is:\n",
            "{'env_id': 'CartPole-v1', 'gamma': 1, 'learning_rate': 0.01, 'seed': 1235}\n"
          ],
          "name": "stdout"
        }
      ]
    },
    {
      "cell_type": "code",
      "metadata": {
        "id": "fr0LOHDIwOS9",
        "colab_type": "code",
        "colab": {}
      },
      "source": [
        "agent = REINFORCE(config)"
      ],
      "execution_count": 0,
      "outputs": []
    },
    {
      "cell_type": "code",
      "metadata": {
        "id": "D4Ag7E3qjJas",
        "colab_type": "code",
        "colab": {
          "base_uri": "https://localhost:8080/",
          "height": 1000
        },
        "outputId": "aff75651-4cfc-4ac3-adca-3d72331d5a65"
      },
      "source": [
        "agent.train(n_trajectories=50, n_update=50)"
      ],
      "execution_count": 35,
      "outputs": [
        {
          "output_type": "stream",
          "text": [
            "Episode 1/50: rewards 16.9 +/- 6.2\n",
            "Episode 2/50: rewards 22.48 +/- 9.21\n",
            "Episode 3/50: rewards 22.7 +/- 11.96\n",
            "Episode 4/50: rewards 23.44 +/- 11.93\n",
            "Episode 5/50: rewards 21.92 +/- 10.02\n",
            "Episode 6/50: rewards 22.62 +/- 13.48\n",
            "Episode 7/50: rewards 23.42 +/- 9.84\n",
            "Episode 8/50: rewards 25.48 +/- 12.17\n",
            "Episode 9/50: rewards 23.06 +/- 9.69\n",
            "Episode 10/50: rewards 24.7 +/- 13.26\n",
            "Episode 11/50: rewards 26.22 +/- 16.31\n",
            "Episode 12/50: rewards 28.02 +/- 18.57\n",
            "Episode 13/50: rewards 31.08 +/- 19.32\n",
            "Episode 14/50: rewards 29.74 +/- 15.11\n",
            "Episode 15/50: rewards 30.76 +/- 15.9\n",
            "Episode 16/50: rewards 36.06 +/- 22.43\n",
            "Episode 17/50: rewards 27.9 +/- 12.09\n",
            "Episode 18/50: rewards 39.26 +/- 21.95\n",
            "Episode 19/50: rewards 36.16 +/- 23.68\n",
            "Episode 20/50: rewards 38.26 +/- 23.66\n",
            "Episode 21/50: rewards 41.82 +/- 28.26\n",
            "Episode 22/50: rewards 45.16 +/- 21.71\n",
            "Episode 23/50: rewards 38.66 +/- 15.77\n",
            "Episode 24/50: rewards 39.16 +/- 16.96\n",
            "Episode 25/50: rewards 50.9 +/- 25.08\n",
            "Episode 26/50: rewards 52.86 +/- 23.77\n",
            "Episode 27/50: rewards 50.46 +/- 23.26\n",
            "Episode 28/50: rewards 55.84 +/- 37.62\n",
            "Episode 29/50: rewards 58.6 +/- 32.0\n",
            "Episode 30/50: rewards 67.04 +/- 40.1\n",
            "Episode 31/50: rewards 66.34 +/- 33.42\n",
            "Episode 32/50: rewards 75.8 +/- 43.79\n",
            "Episode 33/50: rewards 75.22 +/- 32.93\n",
            "Episode 34/50: rewards 80.84 +/- 33.4\n",
            "Episode 35/50: rewards 89.86 +/- 42.43\n",
            "Episode 36/50: rewards 106.3 +/- 49.39\n",
            "Episode 37/50: rewards 100.32 +/- 45.37\n",
            "Episode 38/50: rewards 123.1 +/- 38.62\n",
            "Episode 39/50: rewards 130.04 +/- 36.66\n",
            "Episode 40/50: rewards 136.48 +/- 42.51\n",
            "Episode 41/50: rewards 148.94 +/- 44.4\n",
            "Episode 42/50: rewards 140.14 +/- 40.22\n",
            "Episode 43/50: rewards 147.54 +/- 37.51\n",
            "Episode 44/50: rewards 178.44 +/- 60.73\n",
            "Episode 45/50: rewards 172.18 +/- 45.13\n",
            "Episode 46/50: rewards 189.54 +/- 61.13\n",
            "Episode 47/50: rewards 202.1 +/- 61.31\n",
            "Episode 48/50: rewards 212.5 +/- 60.58\n",
            "Episode 49/50: rewards 240.58 +/- 70.89\n",
            "Episode 50/50: rewards 249.9 +/- 76.55\n"
          ],
          "name": "stdout"
        },
        {
          "output_type": "display_data",
          "data": {
            "image/png": "[encoded data removed]",
            "text/plain": [
              "<Figure size 432x288 with 1 Axes>"
            ]
          },
          "metadata": {
            "tags": []
          }
        }
      ]
    },
    {
      "cell_type": "markdown",
      "metadata": {
        "id": "q3_dvBl8jUc3",
        "colab_type": "text"
      },
      "source": [
        "Evaluate the agent over multiple episodes"
      ]
    },
    {
      "cell_type": "code",
      "metadata": {
        "id": "aPyqbIiCjO_-",
        "colab_type": "code",
        "colab": {
          "base_uri": "https://localhost:8080/",
          "height": 454
        },
        "outputId": "6513c25c-28f5-48ea-af49-6edc9a21d82b"
      },
      "source": [
        "agent.evaluate(render=True)"
      ],
      "execution_count": 36,
      "outputs": [
        {
          "output_type": "display_data",
          "data": {
            "text/html": [
              "<video alt=\"gym-results/openaigym.video.6.125.video000000.mp4\" autoplay \n",
              "                      loop controls style=\"height: 400px;\">\n",
              "                      <source src=\"data:video/mp4;base64,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\" type=\"video/mp4\" />\n",
              "                 </video>"
            ],
            "text/plain": [
              "<IPython.core.display.HTML object>"
            ]
          },
          "metadata": {
            "tags": []
          }
        },
        {
          "output_type": "stream",
          "text": [
            "Reward: 153.0\n",
            "Reward: 153.0\n"
          ],
          "name": "stdout"
        }
      ]
    },
    {
      "cell_type": "markdown",
      "metadata": {
        "id": "LHM2_CRFkNoA",
        "colab_type": "text"
      },
      "source": [
        "## Policy Evaluation as Supervised Learning\n",
        "\n",
        "**Q2: Implement batched gradient algorithm**\n",
        "\n",
        "Define network for Q-function (ValueNetwork) and policy (ActorNetwork)\n"
      ]
    },
    {
      "cell_type": "code",
      "metadata": {
        "id": "W9sxcz_eKF1M",
        "colab_type": "code",
        "colab": {}
      },
      "source": [
        "class ValueNetwork(nn.Module):\n",
        "\n",
        "    def __init__(self, input_size, hidden_size, output_size):\n",
        "        super(ValueNetwork, self).__init__()\n",
        "        self.fc1 = nn.Linear(input_size, hidden_size)\n",
        "        self.fc2 = nn.Linear(hidden_size, hidden_size)\n",
        "        self.fc3 = nn.Linear(hidden_size, output_size)\n",
        "\n",
        "    def forward(self, x):\n",
        "        out = F.relu(self.fc1(x))\n",
        "        out = F.relu(self.fc2(out))\n",
        "        out = self.fc3(out)\n",
        "        return out\n",
        "    \n",
        "    def predict(self, x):\n",
        "        return self(x).detach().numpy()"
      ],
      "execution_count": 0,
      "outputs": []
    },
    {
      "cell_type": "code",
      "metadata": {
        "id": "1GKxKzs5khxM",
        "colab_type": "code",
        "colab": {}
      },
      "source": [
        "class ActorNetwork(nn.Module):\n",
        "\n",
        "    def __init__(self, input_size, hidden_size, action_size):\n",
        "        super(ActorNetwork, self).__init__()\n",
        "        self.fc1 = nn.Linear(input_size, hidden_size)\n",
        "        self.fc2 = nn.Linear(hidden_size, hidden_size)\n",
        "        self.fc3 = nn.Linear(hidden_size, action_size)\n",
        "\n",
        "    def forward(self, x):\n",
        "        out = F.relu(self.fc1(x))\n",
        "        out = F.relu(self.fc2(out))\n",
        "        out = F.softmax(self.fc3(out), dim=-1)\n",
        "        return out\n",
        "    \n",
        "    def select_action(self, x):\n",
        "        return torch.multinomial(self(x), 1).detach().numpy()"
      ],
      "execution_count": 0,
      "outputs": []
    },
    {
      "cell_type": "markdown",
      "metadata": {
        "id": "aBpNVkaAKLQz",
        "colab_type": "text"
      },
      "source": [
        "Implement your (batched) gradient algorithm\n",
        "\n"
      ]
    },
    {
      "cell_type": "code",
      "metadata": {
        "id": "QQ4Wu5B5KIIO",
        "colab_type": "code",
        "colab": {}
      },
      "source": [
        "class EvalAgent:\n",
        "\n",
        "    def __init__(self, config, policy):\n",
        "        self.config = config\n",
        "        self.env = gym.make(config['env_id'])\n",
        "        make_seed(config['seed'])\n",
        "        self.env.seed(config['seed'])\n",
        "        self.monitor_env = Monitor(self.env, \"./gym-results\", force=True, video_callable=lambda episode: True)\n",
        "        self.gamma = config['gamma']\n",
        "        self.policy = policy\n",
        "\n",
        "        # Our network\n",
        "        self.value_network = ValueNetwork(self.env.observation_space.shape[0], 16, 1)\n",
        "\n",
        "        # optimizers\n",
        "        self.value_network_optimizer = optim.RMSprop(self.value_network.parameters(), \n",
        "                                                   lr=config['value_network']['learning_rate'])\n",
        "    \n",
        "    def _returns_advantages(self, rewards, dones, next_value):\n",
        "        \"\"\"Returns the cumulative discounted rewards at each time step\n",
        "\n",
        "        Parameters\n",
        "        ----------\n",
        "        rewards : array\n",
        "            An array of shape (batch_size,) containing the rewards given by the env\n",
        "        dones : array\n",
        "            An array of shape (batch_size,) containing the done bool indicator given by the env\n",
        "        next_value : float\n",
        "            The value of the next state given by the value network\n",
        "\n",
        "        Returns\n",
        "        -------\n",
        "        returns : array\n",
        "            The cumulative discounted rewards\n",
        "        \"\"\"\n",
        "\n",
        "        T = len(rewards)\n",
        "        res = np.zeros(T)\n",
        "        gammas = self.gamma**np.arange(T+1)\n",
        "        listIndex = np.where(dones == True)[0]\n",
        "        listIndex = np.append([0], listIndex)\n",
        "        for k in range(len(listIndex)-1):\n",
        "          for i in range(listIndex[k],listIndex[k + 1] + 1):\n",
        "            res[i] = np.sum(rewards[i:(listIndex[k + 1] + 1)]*gammas[:(listIndex[k + 1] + 1 - i)])\n",
        "        if listIndex[-1] != T:\n",
        "          for i in range(listIndex[-1], T):\n",
        "            res[i] = np.sum(np.append(rewards[i:T], [next_value])*gammas[:(T + 1 - i)])\n",
        "        return res\n",
        "    \n",
        "    \n",
        "    def optimize_model(self, observations, actions, returns):\n",
        "        \"\"\"Perform a gradient update using provided transitions\n",
        "\n",
        "        Parameters\n",
        "        ----------\n",
        "        observations : array\n",
        "            The observations\n",
        "        actions : array\n",
        "            The actions\n",
        "        returns : array\n",
        "            The returns from each state\n",
        "\n",
        "        Returns\n",
        "        -------\n",
        "        loss_value: int\n",
        "            The loss value\n",
        "        \"\"\"\n",
        "        #actions = F.one_hot(torch.tensor(actions), self.env.action_space.n)\n",
        "        returns = torch.tensor(returns[:, None], dtype=torch.float)\n",
        "        observations = torch.tensor(observations, dtype=torch.float)\n",
        "        self.value_network_optimizer.zero_grad()\n",
        "        inp = self.value_network.forward(observations)#requires_grad=True\n",
        "        loss = nn.MSELoss()\n",
        "        output = loss(inp, returns)\n",
        "        output.backward()\n",
        "        self.value_network_optimizer.step()\n",
        "        return output\n",
        "    \n",
        "    def training_batch(self, epochs, batch_size):\n",
        "        \"\"\"Perform a training by batch\n",
        "\n",
        "        Parameters\n",
        "        ----------\n",
        "        epochs : int\n",
        "            Number of epochs\n",
        "        batch_size : int\n",
        "            The size of a batch\n",
        "        \"\"\"\n",
        "        episode_count = 0\n",
        "        actions = np.empty((batch_size,), dtype=np.int)\n",
        "        dones = np.empty((batch_size,), dtype=np.bool)\n",
        "        rewards, values = np.empty((2, batch_size), dtype=np.float)\n",
        "        observations = np.empty((batch_size,) + self.env.observation_space.shape, dtype=np.float)\n",
        "        observation = self.env.reset()\n",
        "        action = self.policy.select_action(torch.tensor(observation, dtype=torch.float))\n",
        "        mse_test = []\n",
        "\n",
        "        for epoch in range(epochs):\n",
        "            # Lets collect one batch\n",
        "            for i in range(batch_size):\n",
        "                observations[i] = observation\n",
        "                actions[i] = action\n",
        "                values[i] = self.value_network.predict(torch.tensor(observation, dtype=torch.float))\n",
        "                observation, reward, done, info = self.env.step(int(action))\n",
        "                rewards[i] = reward\n",
        "                dones[i] = done\n",
        "                action = self.policy.select_action(torch.tensor(observation, dtype=torch.float))\n",
        "                # step\n",
        "                if dones[i]:\n",
        "                    observation = self.env.reset()\n",
        "                    action = self.policy.select_action(torch.tensor(observation, dtype=torch.float))\n",
        "\n",
        "            # If our epiosde didn't end on the last step we need to compute the value for the last state\n",
        "            if dones[-1]:\n",
        "                next_value = 0\n",
        "            else:\n",
        "                next_value = self.value_network.predict(torch.tensor(observation, dtype=torch.float))\n",
        "\n",
        "            # Update episode_count\n",
        "            episode_count += sum(dones)\n",
        "\n",
        "            # Compute returns\n",
        "            returns = self._returns_advantages(rewards, dones, next_value)\n",
        "\n",
        "            # Learning step !\n",
        "            self.optimize_model(observations, actions, returns)\n",
        "\n",
        "            # Test it every 50 epochs\n",
        "            if epoch % 25 == 0 or epoch == epochs - 1:\n",
        "                L = []\n",
        "                for _ in range(10):\n",
        "                    obs_states, y_mc = self.evaluate()\n",
        "                    y_hat = self.value_network.predict(torch.tensor(obs_states, dtype=torch.float))\n",
        "                    err = y_mc - y_hat\n",
        "                    mse = np.mean(err**2)\n",
        "                    L.append(mse.item())\n",
        "                mse_test.append(L)\n",
        "                print(f'Epoch {epoch}/{epochs}: MSE: {np.mean(mse)}')\n",
        "\n",
        "                observation = self.env.reset()\n",
        "\n",
        "        # Plotting\n",
        "        r = pd.DataFrame((itertools.chain(*(itertools.product([i], mse_test[i]) for i in range(len(mse_test))))), columns=['Epoch', 'MSE'])\n",
        "        sns.lineplot(x=\"Epoch\", y=\"MSE\", data=r, ci='sd');\n",
        "\n",
        "        print(f'The trainnig was done over a total of {episode_count} episodes')\n",
        "\n",
        "    def evaluate(self, render=False):\n",
        "        \"\"\"Returns the observations and the estimated V-function (using first visit Monte-Carlo)\n",
        "\n",
        "        Parameters\n",
        "        ----------\n",
        "        rewards : array\n",
        "            An array of shape (batch_size,) containing the rewards given by the env\n",
        "        dones : array\n",
        "            An array of shape (batch_size,) containing the done bool indicator given by the env\n",
        "        values : array\n",
        "            An array of shape (batch_size,) containing the values given by the value network\n",
        "        next_value : float\n",
        "            The value of the next state given by the value network\n",
        "\n",
        "        Returns\n",
        "        -------\n",
        "        states : array\n",
        "            Observations\n",
        "        returns : array\n",
        "            The estimate value function of each state\n",
        "        \"\"\"\n",
        "        env = self.monitor_env if render else self.env\n",
        "        observation = env.reset()\n",
        "        states = [observation.copy()]\n",
        "        rewards= []\n",
        "        observation = torch.tensor(observation, dtype=torch.float)\n",
        "        done = False\n",
        "        steps = 0\n",
        "\n",
        "        while not done:\n",
        "            action = self.policy.select_action(observation)\n",
        "            observation, reward, done, info = env.step(int(action))\n",
        "            for i in range(steps):\n",
        "                rewards[i] = rewards[i] + math.pow(self.gamma, steps-i)*reward\n",
        "            rewards.append(reward)\n",
        "            if not done:\n",
        "                states.append(observation.copy())\n",
        "            observation = torch.tensor(observation, dtype=torch.float)\n",
        "            steps += 1\n",
        "\n",
        "        env.close()\n",
        "        if render:\n",
        "            show_video(\"./gym-results\")\n",
        "            print(f'Reward: {reward_episode}')\n",
        "        states = np.array(states).reshape(-1, self.env.observation_space.shape[0])\n",
        "        returns = np.array(rewards).reshape(-1,1)\n",
        "        return states, returns"
      ],
      "execution_count": 0,
      "outputs": []
    },
    {
      "cell_type": "markdown",
      "metadata": {
        "id": "IY1VIUHLNKn3",
        "colab_type": "text"
      },
      "source": [
        "Define configuration"
      ]
    },
    {
      "cell_type": "code",
      "metadata": {
        "id": "Fvc-7jXDNNkG",
        "colab_type": "code",
        "colab": {
          "base_uri": "https://localhost:8080/",
          "height": 100
        },
        "outputId": "daa25705-850d-47fa-99ca-cdfc32c6965b"
      },
      "source": [
        "env_id = 'CartPole-v1'\n",
        "value_learning_rate = 0.001\n",
        "gamma = 0.99\n",
        "seed = 1\n",
        "\n",
        "config_td = {\n",
        "    'env_id': env_id,\n",
        "    'gamma': gamma,\n",
        "    'seed': seed,\n",
        "    'value_network': {'learning_rate': value_learning_rate, 'reference': './CartPole_value.pt'}\n",
        "}\n",
        "\n",
        "print(\"Current config_td is:\")\n",
        "pprint(config_td)\n"
      ],
      "execution_count": 40,
      "outputs": [
        {
          "output_type": "stream",
          "text": [
            "Current config_td is:\n",
            "{'env_id': 'CartPole-v1',\n",
            " 'gamma': 0.99,\n",
            " 'seed': 1,\n",
            " 'value_network': {'learning_rate': 0.001, 'reference': './CartPole_value.pt'}}\n"
          ],
          "name": "stdout"
        }
      ]
    },
    {
      "cell_type": "markdown",
      "metadata": {
        "id": "d2lRnaF3NPyy",
        "colab_type": "text"
      },
      "source": [
        "Create policy"
      ]
    },
    {
      "cell_type": "code",
      "metadata": {
        "id": "NkbHK_lXNShg",
        "colab_type": "code",
        "colab": {
          "base_uri": "https://localhost:8080/",
          "height": 33
        },
        "outputId": "dfc3e132-6f9d-4b5f-896e-a93bcd61e583"
      },
      "source": [
        "env = gym.make(config_td['env_id'])\n",
        "policy = ActorNetwork(env.observation_space.shape[0], 16, env.action_space.n)\n",
        "policy.load_state_dict(torch.load('./mvarl_hands_on/data/CartPole_actor.pt'))\n",
        "state = torch.tensor(np.array(env.reset(), dtype=np.float32))\n",
        "print(\"pi(state) = \", policy.select_action(state))\n",
        "del env"
      ],
      "execution_count": 41,
      "outputs": [
        {
          "output_type": "stream",
          "text": [
            "pi(state) =  [1]\n"
          ],
          "name": "stdout"
        }
      ]
    },
    {
      "cell_type": "markdown",
      "metadata": {
        "id": "Y51M4EgtNU7Z",
        "colab_type": "text"
      },
      "source": [
        "Run agent"
      ]
    },
    {
      "cell_type": "code",
      "metadata": {
        "id": "4PFvnYLnNGvX",
        "colab_type": "code",
        "colab": {
          "base_uri": "https://localhost:8080/",
          "height": 982
        },
        "outputId": "77f3a4f9-0b9f-48fd-89e8-56d950fccde4"
      },
      "source": [
        "agent = EvalAgent(config=config_td, policy=policy)\n",
        "agent.training_batch(epochs=1000, batch_size=256)"
      ],
      "execution_count": 42,
      "outputs": [
        {
          "output_type": "stream",
          "text": [
            "Epoch 0/1000: MSE: 7039.192746918926\n",
            "Epoch 25/1000: MSE: 6969.131259438612\n",
            "Epoch 50/1000: MSE: 6835.056535845665\n",
            "Epoch 75/1000: MSE: 6669.228551857719\n",
            "Epoch 100/1000: MSE: 6430.285455037145\n",
            "Epoch 125/1000: MSE: 3405.052894899822\n",
            "Epoch 150/1000: MSE: 5826.745827081611\n",
            "Epoch 175/1000: MSE: 5527.74132023809\n",
            "Epoch 200/1000: MSE: 3015.929393368864\n",
            "Epoch 225/1000: MSE: 4604.076120803686\n",
            "Epoch 250/1000: MSE: 4308.727925903526\n",
            "Epoch 275/1000: MSE: 3914.1500439337965\n",
            "Epoch 300/1000: MSE: 3415.1741771195598\n",
            "Epoch 325/1000: MSE: 3043.6111698675554\n",
            "Epoch 350/1000: MSE: 2648.8302715694526\n",
            "Epoch 375/1000: MSE: 2227.553862626229\n",
            "Epoch 400/1000: MSE: 1780.064239700782\n",
            "Epoch 425/1000: MSE: 1296.2795136039856\n",
            "Epoch 450/1000: MSE: 1247.3371044606195\n",
            "Epoch 475/1000: MSE: 1156.5768327604494\n",
            "Epoch 500/1000: MSE: 1004.300963362331\n",
            "Epoch 525/1000: MSE: 925.1255126173772\n",
            "Epoch 550/1000: MSE: 773.9463707852461\n",
            "Epoch 575/1000: MSE: 746.3542953856778\n",
            "Epoch 600/1000: MSE: 670.2503258314747\n",
            "Epoch 625/1000: MSE: 601.0829898863719\n",
            "Epoch 650/1000: MSE: 916.1690615802128\n",
            "Epoch 675/1000: MSE: 603.345604814936\n",
            "Epoch 700/1000: MSE: 622.330392774705\n",
            "Epoch 725/1000: MSE: 619.3782029274295\n",
            "Epoch 750/1000: MSE: 580.3420226882447\n",
            "Epoch 775/1000: MSE: 606.5209612146414\n",
            "Epoch 800/1000: MSE: 666.1339191123302\n",
            "Epoch 825/1000: MSE: 610.2185654380663\n",
            "Epoch 850/1000: MSE: 619.6921866863337\n",
            "Epoch 875/1000: MSE: 603.9499005837702\n",
            "Epoch 900/1000: MSE: 607.7764706269767\n",
            "Epoch 925/1000: MSE: 585.0078435160076\n",
            "Epoch 950/1000: MSE: 612.630923716405\n",
            "Epoch 975/1000: MSE: 599.1364216406897\n",
            "Epoch 999/1000: MSE: 643.8660197494444\n",
            "The trainnig was done over a total of 520 episodes\n"
          ],
          "name": "stdout"
        },
        {
          "output_type": "display_data",
          "data": {
            "image/png": "[encoded data removed]",
            "text/plain": [
              "<Figure size 432x288 with 1 Axes>"
            ]
          },
          "metadata": {
            "tags": []
          }
        }
      ]
    },
    {
      "cell_type": "markdown",
      "metadata": {
        "id": "03as0wkuja2A",
        "colab_type": "text"
      },
      "source": [
        "## Advantage Actor Critic (A2C)\n",
        "**Q3: Implement the A2C method**\n",
        "\n",
        "As usual we provide a structure you can use as starting point.\n",
        "\n",
        "\n",
        "\n",
        "**Note:** try to reuse previous parts of previous code.\n",
        "\n"
      ]
    },
    {
      "cell_type": "code",
      "metadata": {
        "id": "G4EmYpAsjhKh",
        "colab_type": "code",
        "colab": {}
      },
      "source": [
        "class A2CAgent:\n",
        "\n",
        "    def __init__(self, config):\n",
        "        self.config = config\n",
        "        self.env = gym.make(config['env_id'])\n",
        "        make_seed(config['seed'])\n",
        "        self.env.seed(config['seed'])\n",
        "        self.monitor_env = Monitor(self.env, \"./gym-results\", force=True, video_callable=lambda episode: True)\n",
        "        self.gamma = config['gamma']\n",
        "        \n",
        "        # Our two networks\n",
        "        self.value_network = ValueNetwork(self.env.observation_space.shape[0], 16, 1)\n",
        "        self.actor_network = ActorNetwork(self.env.observation_space.shape[0], 16, self.env.action_space.n)\n",
        "        \n",
        "        # Their optimizers\n",
        "        self.value_network_optimizer = optim.RMSprop(self.value_network.parameters(), lr=config['value_network']['learning_rate'])\n",
        "        self.actor_network_optimizer = optim.RMSprop(self.actor_network.parameters(), lr=config['actor_network']['learning_rate'])\n",
        "        \n",
        "    # Hint: use it during training_batch\n",
        "    def _returns_advantages(self, rewards, dones, values, next_value):\n",
        "        \"\"\"Returns the cumulative discounted rewards at each time step\n",
        "\n",
        "        Parameters\n",
        "        ----------\n",
        "        rewards : array\n",
        "            An array of shape (batch_size,) containing the rewards given by the env\n",
        "        dones : array\n",
        "            An array of shape (batch_size,) containing the done bool indicator given by the env\n",
        "        values : array\n",
        "            An array of shape (batch_size,) containing the values given by the value network\n",
        "        next_value : float\n",
        "            The value of the next state given by the value network\n",
        "        \n",
        "        Returns\n",
        "        -------\n",
        "        returns : array\n",
        "            The cumulative discounted rewards\n",
        "        advantages : array\n",
        "            The advantages\n",
        "        \"\"\"\n",
        "        ### Returns\n",
        "        T = len(rewards)\n",
        "        res = np.zeros(T)\n",
        "        gammas = self.gamma**np.arange(T+1)\n",
        "        listIndex = np.where(dones == True)[0]\n",
        "        listIndex = np.append([0], listIndex)\n",
        "        for k in range(len(listIndex)-1):\n",
        "          for i in range(listIndex[k],listIndex[k + 1] + 1):\n",
        "            res[i] = np.sum(rewards[i:(listIndex[k + 1] + 1)]*gammas[:(listIndex[k + 1] + 1 - i)])\n",
        "        if listIndex[-1] != T:\n",
        "          for i in range(listIndex[-1], T):\n",
        "            res[i] = np.sum(np.append(rewards[i:T], [next_value])*gammas[:(T + 1 - i)])\n",
        "        \n",
        "        ### Advantages\n",
        "        advantages = np.zeros(T)\n",
        "        for k in range(T-1):\n",
        "          if dones[k]:\n",
        "            advantages[k] = rewards[k] - values[k]\n",
        "          else:\n",
        "            advantages[k] = rewards[k] + self.gamma * values[k+1] - values[k]\n",
        "        if dones[T-1]:\n",
        "          advantages[T-1] = rewards[T-1] - values[T-1]\n",
        "        else:\n",
        "          advantages[T-1] = rewards[T-1] + self.gamma * next_value - values[T-1]\n",
        "        return res, advantages\n",
        "\n",
        "    def training_batch(self, epochs, batch_size):\n",
        "        episode_count = 0\n",
        "        actions = np.empty((batch_size,), dtype=np.int)\n",
        "        dones = np.empty((batch_size,), dtype=np.bool)\n",
        "        rewards, values = np.empty((2, batch_size), dtype=np.float)\n",
        "        observations = np.empty((batch_size,) + self.env.observation_space.shape, dtype=np.float)\n",
        "        observation = self.env.reset()\n",
        "        action = self.actor_network.select_action(torch.tensor(observation, dtype=torch.float))\n",
        "        rewards_test = []\n",
        "\n",
        "        for epoch in range(epochs):\n",
        "            # Lets collect one batch\n",
        "            for i in range(batch_size):\n",
        "                observations[i] = observation\n",
        "                actions[i] = action\n",
        "                values[i] = self.value_network.predict(torch.tensor(observation, dtype=torch.float))\n",
        "                observation, reward, done, info = self.env.step(int(action))\n",
        "                rewards[i] = reward\n",
        "                dones[i] = done\n",
        "                action = self.actor_network.select_action(torch.tensor(observation, dtype=torch.float))\n",
        "                # step\n",
        "                if dones[i]:\n",
        "                    observation = self.env.reset()\n",
        "                    action = self.actor_network.select_action(torch.tensor(observation, dtype=torch.float))\n",
        "            # If our epiosde didn't end on the last step we need to compute the value for the last state\n",
        "            if dones[-1]:\n",
        "                next_value = 0\n",
        "            else:\n",
        "                next_value = self.value_network.predict(torch.tensor(observation, dtype=torch.float))\n",
        "            # Update episode_count\n",
        "            episode_count += sum(dones)\n",
        "\n",
        "            # Compute returns and advantages\n",
        "            returns, advantages = self._returns_advantages(rewards, dones, values, next_value)\n",
        "\n",
        "            # Learning step !\n",
        "            self.optimize_model(observations, actions, returns, advantages, episode_count)\n",
        "\n",
        "            # Test it every 50 epochs\n",
        "            if epoch % 50 == 0 or epoch == epochs - 1:\n",
        "                rewards_test.append(np.array([self.evaluate() for _ in range(50)]))\n",
        "                print(f'Epoch {epoch}/{epochs}: Mean rewards: {round(rewards_test[-1].mean(), 2)}, Std: {round(rewards_test[-1].std(), 2)}')\n",
        "\n",
        "                # Early stopping\n",
        "                if rewards_test[-1].mean() > 490 and epoch != epochs -1:\n",
        "                    print('Early stopping !')\n",
        "                    break\n",
        "                observation = self.env.reset()\n",
        "                    \n",
        "        # Plotting\n",
        "        r = pd.DataFrame((itertools.chain(*(itertools.product([i], rewards_test[i]) for i in range(len(rewards_test))))), columns=['Epoch', 'Reward'])\n",
        "        sns.lineplot(x=\"Epoch\", y=\"Reward\", data=r, ci='sd');        \n",
        "        print(f'The trainnig was done over a total of {episode_count} episodes')\n",
        "\n",
        "\n",
        "\n",
        "\n",
        "    def optimize_model(self, observations, actions, returns, advantages, nbtraj):\n",
        "        #actions = F.one_hot(torch.tensor(actions), self.env.action_space.n)\n",
        "        returns = torch.tensor(returns[:, None], dtype=torch.float)\n",
        "        advantages = torch.tensor(advantages, dtype=torch.float)\n",
        "        observations = torch.tensor(observations, dtype=torch.float)\n",
        "\n",
        "        # MSE for the values\n",
        "        self.value_network_optimizer.zero_grad()\n",
        "        inp = self.value_network.forward(observations)\n",
        "        loss = nn.MSELoss()\n",
        "        output = loss(inp, returns)\n",
        "        output.backward()\n",
        "        self.value_network_optimizer.step()\n",
        "\n",
        "        # Actor & Entropy loss\n",
        "        J = []\n",
        "        for k in range(len(advantages)):\n",
        "          p = self.actor_network.forward(observations[k])\n",
        "          log_proba = torch.log(p[actions[k]])\n",
        "          J.append(-1*log_proba * advantages[k])\n",
        "        self.actor_network_optimizer.zero_grad()\n",
        "        loss = (1/nbtraj) * torch.stack(J).sum()\n",
        "        loss.backward()\n",
        "        # Do the gradient descent step\n",
        "        self.actor_network_optimizer.step()\n",
        "\n",
        "\n",
        "    def evaluate(self, render=False):\n",
        "        env = self.monitor_env if render else self.env\n",
        "        observation = env.reset()\n",
        "        observation = torch.tensor(observation, dtype=torch.float)\n",
        "        reward_episode = 0\n",
        "        done = False\n",
        "\n",
        "        while not done:\n",
        "            policy = self.actor_network(observation)\n",
        "            action = torch.multinomial(policy, 1)\n",
        "            observation, reward, done, info = env.step(int(action))\n",
        "            observation = torch.tensor(observation, dtype=torch.float)\n",
        "            reward_episode += reward\n",
        "            \n",
        "        env.close()\n",
        "        if render:\n",
        "            show_video(\"./gym-results\")\n",
        "            print(f'Reward: {reward_episode}')\n",
        "        return reward_episode"
      ],
      "execution_count": 0,
      "outputs": []
    },
    {
      "cell_type": "markdown",
      "metadata": {
        "id": "8sEwrInsjkDH",
        "colab_type": "text"
      },
      "source": [
        "Create configuration for A2C"
      ]
    },
    {
      "cell_type": "code",
      "metadata": {
        "id": "OwDDx78wjmG5",
        "colab_type": "code",
        "colab": {
          "base_uri": "https://localhost:8080/",
          "height": 134
        },
        "outputId": "ed3a50e4-7543-4349-882b-e0e61b670062"
      },
      "source": [
        "env_id = 'CartPole-v1'\n",
        "value_learning_rate = 0.001\n",
        "actor_learning_rate = 0.001\n",
        "gamma = 0.99\n",
        "entropy = 1\n",
        "seed = 1\n",
        "\n",
        "config_a2c = {\n",
        "    'env_id': env_id,\n",
        "    'gamma': gamma,\n",
        "    'seed': seed,\n",
        "    'value_network': {'learning_rate': value_learning_rate},\n",
        "    'actor_network': {'learning_rate': actor_learning_rate},\n",
        "    'entropy': entropy\n",
        "}\n",
        "\n",
        "print(\"Current config_a2c is:\")\n",
        "pprint(config_a2c)"
      ],
      "execution_count": 44,
      "outputs": [
        {
          "output_type": "stream",
          "text": [
            "Current config_a2c is:\n",
            "{'actor_network': {'learning_rate': 0.001},\n",
            " 'entropy': 1,\n",
            " 'env_id': 'CartPole-v1',\n",
            " 'gamma': 0.99,\n",
            " 'seed': 1,\n",
            " 'value_network': {'learning_rate': 0.001}}\n"
          ],
          "name": "stdout"
        }
      ]
    },
    {
      "cell_type": "markdown",
      "metadata": {
        "id": "6xW7fe-8jvzY",
        "colab_type": "text"
      },
      "source": [
        "Run the learning agent"
      ]
    },
    {
      "cell_type": "code",
      "metadata": {
        "id": "UrZRJ7-yjryp",
        "colab_type": "code",
        "colab": {
          "base_uri": "https://localhost:8080/",
          "height": 1000
        },
        "outputId": "8e70d350-97cc-4eae-c7b1-4f2231f684c8"
      },
      "source": [
        "agent = A2CAgent(config_a2c)\n",
        "rewards = agent.training_batch(4000, 256)\n",
        "#rewards = agent.training_batch(1, 10)"
      ],
      "execution_count": 45,
      "outputs": [
        {
          "output_type": "stream",
          "text": [
            "Epoch 0/4000: Mean rewards: 19.56, Std: 8.62\n",
            "Epoch 50/4000: Mean rewards: 18.02, Std: 7.6\n",
            "Epoch 100/4000: Mean rewards: 14.94, Std: 5.11\n",
            "Epoch 150/4000: Mean rewards: 11.54, Std: 3.23\n",
            "Epoch 200/4000: Mean rewards: 12.06, Std: 3.01\n",
            "Epoch 250/4000: Mean rewards: 11.92, Std: 3.03\n",
            "Epoch 300/4000: Mean rewards: 13.08, Std: 3.46\n",
            "Epoch 350/4000: Mean rewards: 12.4, Std: 3.36\n",
            "Epoch 400/4000: Mean rewards: 12.72, Std: 4.55\n",
            "Epoch 450/4000: Mean rewards: 12.4, Std: 3.34\n",
            "Epoch 500/4000: Mean rewards: 12.16, Std: 3.45\n",
            "Epoch 550/4000: Mean rewards: 13.04, Std: 4.28\n",
            "Epoch 600/4000: Mean rewards: 12.76, Std: 3.64\n",
            "Epoch 650/4000: Mean rewards: 14.56, Std: 5.36\n",
            "Epoch 700/4000: Mean rewards: 14.94, Std: 6.02\n",
            "Epoch 750/4000: Mean rewards: 17.76, Std: 7.93\n",
            "Epoch 800/4000: Mean rewards: 20.6, Std: 9.64\n",
            "Epoch 850/4000: Mean rewards: 21.54, Std: 8.81\n",
            "Epoch 900/4000: Mean rewards: 30.48, Std: 16.49\n",
            "Epoch 950/4000: Mean rewards: 42.32, Std: 24.99\n",
            "Epoch 1000/4000: Mean rewards: 50.0, Std: 19.74\n",
            "Epoch 1050/4000: Mean rewards: 53.58, Std: 20.85\n",
            "Epoch 1100/4000: Mean rewards: 66.0, Std: 27.46\n",
            "Epoch 1150/4000: Mean rewards: 71.8, Std: 27.23\n",
            "Epoch 1200/4000: Mean rewards: 70.38, Std: 23.96\n",
            "Epoch 1250/4000: Mean rewards: 76.92, Std: 25.79\n",
            "Epoch 1300/4000: Mean rewards: 88.74, Std: 29.14\n",
            "Epoch 1350/4000: Mean rewards: 94.68, Std: 25.97\n",
            "Epoch 1400/4000: Mean rewards: 102.8, Std: 32.66\n",
            "Epoch 1450/4000: Mean rewards: 120.4, Std: 46.41\n",
            "Epoch 1500/4000: Mean rewards: 116.38, Std: 37.35\n",
            "Epoch 1550/4000: Mean rewards: 108.8, Std: 31.48\n",
            "Epoch 1600/4000: Mean rewards: 157.66, Std: 40.85\n",
            "Epoch 1650/4000: Mean rewards: 148.94, Std: 30.95\n",
            "Epoch 1700/4000: Mean rewards: 83.28, Std: 27.5\n",
            "Epoch 1750/4000: Mean rewards: 79.36, Std: 22.85\n",
            "Epoch 1800/4000: Mean rewards: 81.82, Std: 21.96\n",
            "Epoch 1850/4000: Mean rewards: 73.78, Std: 20.52\n",
            "Epoch 1900/4000: Mean rewards: 79.2, Std: 20.89\n",
            "Epoch 1950/4000: Mean rewards: 79.08, Std: 20.05\n",
            "Epoch 2000/4000: Mean rewards: 97.5, Std: 23.0\n",
            "Epoch 2050/4000: Mean rewards: 96.24, Std: 19.7\n",
            "Epoch 2100/4000: Mean rewards: 126.22, Std: 35.79\n",
            "Epoch 2150/4000: Mean rewards: 88.54, Std: 26.63\n",
            "Epoch 2200/4000: Mean rewards: 111.04, Std: 35.86\n",
            "Epoch 2250/4000: Mean rewards: 100.8, Std: 29.61\n",
            "Epoch 2300/4000: Mean rewards: 114.68, Std: 37.29\n",
            "Epoch 2350/4000: Mean rewards: 102.9, Std: 32.28\n",
            "Epoch 2400/4000: Mean rewards: 89.66, Std: 27.45\n",
            "Epoch 2450/4000: Mean rewards: 98.6, Std: 32.56\n",
            "Epoch 2500/4000: Mean rewards: 76.48, Std: 28.88\n",
            "Epoch 2550/4000: Mean rewards: 93.62, Std: 38.41\n",
            "Epoch 2600/4000: Mean rewards: 96.72, Std: 35.28\n",
            "Epoch 2650/4000: Mean rewards: 87.14, Std: 30.06\n",
            "Epoch 2700/4000: Mean rewards: 78.24, Std: 27.18\n",
            "Epoch 2750/4000: Mean rewards: 83.26, Std: 28.31\n",
            "Epoch 2800/4000: Mean rewards: 78.18, Std: 20.24\n",
            "Epoch 2850/4000: Mean rewards: 98.88, Std: 51.7\n",
            "Epoch 2900/4000: Mean rewards: 110.24, Std: 50.83\n",
            "Epoch 2950/4000: Mean rewards: 90.44, Std: 34.3\n",
            "Epoch 3000/4000: Mean rewards: 95.66, Std: 32.93\n",
            "Epoch 3050/4000: Mean rewards: 99.82, Std: 39.79\n",
            "Epoch 3100/4000: Mean rewards: 89.14, Std: 26.01\n",
            "Epoch 3150/4000: Mean rewards: 129.06, Std: 61.36\n",
            "Epoch 3200/4000: Mean rewards: 111.54, Std: 35.0\n",
            "Epoch 3250/4000: Mean rewards: 83.44, Std: 26.28\n",
            "Epoch 3300/4000: Mean rewards: 99.32, Std: 22.18\n",
            "Epoch 3350/4000: Mean rewards: 95.52, Std: 25.33\n",
            "Epoch 3400/4000: Mean rewards: 91.94, Std: 26.79\n",
            "Epoch 3450/4000: Mean rewards: 100.94, Std: 30.58\n",
            "Epoch 3500/4000: Mean rewards: 108.38, Std: 29.88\n",
            "Epoch 3550/4000: Mean rewards: 96.82, Std: 31.75\n",
            "Epoch 3600/4000: Mean rewards: 98.58, Std: 31.58\n",
            "Epoch 3650/4000: Mean rewards: 90.64, Std: 28.4\n",
            "Epoch 3700/4000: Mean rewards: 98.12, Std: 24.68\n",
            "Epoch 3750/4000: Mean rewards: 91.48, Std: 24.37\n",
            "Epoch 3800/4000: Mean rewards: 83.4, Std: 21.68\n",
            "Epoch 3850/4000: Mean rewards: 84.12, Std: 22.98\n",
            "Epoch 3900/4000: Mean rewards: 84.72, Std: 24.22\n",
            "Epoch 3950/4000: Mean rewards: 84.18, Std: 26.13\n",
            "Epoch 3999/4000: Mean rewards: 90.2, Std: 25.87\n",
            "The trainnig was done over a total of 25023 episodes\n"
          ],
          "name": "stdout"
        },
        {
          "output_type": "display_data",
          "data": {
            "image/png": "[encoded data removed]",
            "text/plain": [
              "<Figure size 432x288 with 1 Axes>"
            ]
          },
          "metadata": {
            "tags": []
          }
        }
      ]
    },
    {
      "cell_type": "markdown",
      "metadata": {
        "id": "NzuNtPqTju64",
        "colab_type": "text"
      },
      "source": [
        "Evaluate the agent over multiple episodes"
      ]
    },
    {
      "cell_type": "code",
      "metadata": {
        "id": "bw279M4Jj1y-",
        "colab_type": "code",
        "colab": {
          "base_uri": "https://localhost:8080/",
          "height": 33
        },
        "outputId": "e2b40b34-3378-4bb5-f759-4c165d8ee881"
      },
      "source": [
        "agent.evaluate()"
      ],
      "execution_count": 46,
      "outputs": [
        {
          "output_type": "execute_result",
          "data": {
            "text/plain": [
              "74.0"
            ]
          },
          "metadata": {
            "tags": []
          },
          "execution_count": 46
        }
      ]
    },
    {
      "cell_type": "code",
      "metadata": {
        "id": "1o6Qbjw1lCkT",
        "colab_type": "code",
        "colab": {}
      },
      "source": [
        ""
      ],
      "execution_count": 0,
      "outputs": []
    }
  ]
}