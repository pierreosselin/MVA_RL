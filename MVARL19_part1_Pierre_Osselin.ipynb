{
  "nbformat": 4,
  "nbformat_minor": 0,
  "metadata": {
    "kernelspec": {
      "name": "python3",
      "display_name": "Python 3"
    },
    "language_info": {
      "codemirror_mode": {
        "name": "ipython",
        "version": 3
      },
      "file_extension": ".py",
      "mimetype": "text/x-python",
      "name": "python",
      "nbconvert_exporter": "python",
      "pygments_lexer": "ipython3",
      "version": "3.6.8"
    },
    "colab": {
      "name": "MVARL19_part1_Pierre_Osselin.ipynb",
      "provenance": [],
      "collapsed_sections": [],
      "toc_visible": true
    }
  },
  "cells": [
    {
      "cell_type": "markdown",
      "metadata": {
        "id": "4P3WM-hVOPfo",
        "colab_type": "text"
      },
      "source": [
        "# Reinforcement Learning in Finite MDPs"
      ]
    },
    {
      "cell_type": "code",
      "metadata": {
        "id": "E9_DLZvWQzhb",
        "colab_type": "code",
        "colab": {}
      },
      "source": [
        "!git clone https://github.com/rlgammazero/mvarl_hands_on.git > /dev/null 2>&1"
      ],
      "execution_count": 0,
      "outputs": []
    },
    {
      "cell_type": "markdown",
      "metadata": {
        "id": "wnzUJeyJOPfq",
        "colab_type": "text"
      },
      "source": [
        "## MDPs"
      ]
    },
    {
      "cell_type": "code",
      "metadata": {
        "id": "RcWJSw_uOPfr",
        "colab_type": "code",
        "colab": {}
      },
      "source": [
        "import sys\n",
        "sys.path.insert(0, './mvarl_hands_on/utils')\n",
        "import numpy as np\n",
        "from scipy.special import softmax # for SARSA\n",
        "import matplotlib.pyplot as plt\n",
        "import json\n",
        "import math\n",
        "from cliffwalk import CliffWalk\n",
        "from test_env import ToyEnv1"
      ],
      "execution_count": 0,
      "outputs": []
    },
    {
      "cell_type": "markdown",
      "metadata": {
        "id": "ym-B_4HaOPfu",
        "colab_type": "text"
      },
      "source": [
        "Setting up the environment"
      ]
    },
    {
      "cell_type": "code",
      "metadata": {
        "id": "rVR5qYoLOPfv",
        "colab_type": "code",
        "colab": {
          "base_uri": "https://localhost:8080/",
          "height": 334
        },
        "outputId": "98ef70ff-57e4-4b3f-8d5d-c3d62aa56c4f"
      },
      "source": [
        "env = CliffWalk(proba_succ=0.98)\n",
        "\n",
        "####################################################################################\n",
        "# You probably want to test smaller enviroments before\n",
        "#env = ToyEnv1(gamma=0.95)\n",
        "####################################################################################\n",
        "\n",
        "# Useful attributes\n",
        "print(\"Set of states:\", env.states)\n",
        "print(\"Set of actions:\", env.actions)\n",
        "print(\"Number of states: \", env.Ns)\n",
        "print(\"Number of actions: \", env.Na)\n",
        "print(\"P has shape: \", env.P.shape)  # P[s, a, s'] = env.P[s, a, s']\n",
        "print(\"R has shape: \", env.R.shape)\n",
        "print(\"discount factor: \", env.gamma)\n",
        "print(\"\")\n",
        "\n",
        "# Usefult methods\n",
        "state = env.reset() # get initial state\n",
        "print(\"initial state: \", state)\n",
        "print(\"reward at (s=1, a=3,s'=2): \", env.reward_func(1,3,2))\n",
        "print(\"\")\n",
        "\n",
        "# A random policy\n",
        "policy = np.random.randint(env.Na, size = (env.Ns,))\n",
        "print(\"random policy = \", policy)\n",
        "\n",
        "# Interacting with the environment\n",
        "print(\"(s, a, s', r):\")\n",
        "for time in range(4):\n",
        "    action = policy[state]\n",
        "    next_state, reward, done, info = env.step(action)\n",
        "    print(state, action, next_state, reward, done, info)\n",
        "    if done:\n",
        "        break\n",
        "    state = next_state\n",
        "print(\"\")\n",
        "\n",
        "next_state, reward, done, info = env.step(1)"
      ],
      "execution_count": 52,
      "outputs": [
        {
          "output_type": "stream",
          "text": [
            "Set of states: range(0, 48)\n",
            "Set of actions: [0, 1, 2, 3]\n",
            "Number of states:  48\n",
            "Number of actions:  4\n",
            "P has shape:  (48, 4, 48)\n",
            "R has shape:  (48, 4, 48)\n",
            "discount factor:  0.99\n",
            "\n",
            "initial state:  36\n",
            "reward at (s=1, a=3,s'=2):  0.6\n",
            "\n",
            "random policy =  [1 1 0 1 2 0 2 1 2 0 3 3 2 1 2 1 2 1 0 0 0 1 3 1 2 0 3 3 3 0 1 1 0 3 3 1 1\n",
            " 3 2 2 3 0 0 3 3 2 1 3]\n",
            "(s, a, s', r):\n",
            "36 1 36 0.6 False {}\n",
            "36 1 36 0.6 False {}\n",
            "36 1 36 0.6 False {}\n",
            "36 1 36 0.6 False {}\n",
            "\n"
          ],
          "name": "stdout"
        }
      ]
    },
    {
      "cell_type": "code",
      "metadata": {
        "id": "I3XE6h9IJs9I",
        "colab_type": "code",
        "colab": {
          "base_uri": "https://localhost:8080/",
          "height": 33
        },
        "outputId": "ab9aa52f-e2ca-4371-e29e-b6238af2d008"
      },
      "source": [
        "next_state"
      ],
      "execution_count": 53,
      "outputs": [
        {
          "output_type": "execute_result",
          "data": {
            "text/plain": [
              "36"
            ]
          },
          "metadata": {
            "tags": []
          },
          "execution_count": 53
        }
      ]
    },
    {
      "cell_type": "markdown",
      "metadata": {
        "id": "AUlNvT3cOPfx",
        "colab_type": "text"
      },
      "source": [
        "## Question 1: Value iteration\n",
        "1. Write a function applying the optimal Bellman operator on a provided Q function: $Q_1 = LQ_0, \\; Q_0\\in \\mathbb{R}^{S\\times A}$\n",
        "2. Write a function implementing Value Iteration (VI) with $\\infty$-norm stopping condition (reuse function implemented in 1)\n",
        "3. Evaluate the convergence of your estimate, i.e., plot the value $\\|V_n - V^\\star\\|_{\\infty}$"
      ]
    },
    {
      "cell_type": "code",
      "metadata": {
        "id": "SL33ZjirMJib",
        "colab_type": "code",
        "colab": {}
      },
      "source": [
        "## In case of 3 dimentional reward matrix\n",
        "def reward_action(s, a, R, P, Ns):\n",
        "  sol = 0\n",
        "  for i in range(Ns):\n",
        "    sol += R[s,a,i] * P[s,a,i]\n",
        "  return sol"
      ],
      "execution_count": 0,
      "outputs": []
    },
    {
      "cell_type": "code",
      "metadata": {
        "colab_type": "code",
        "id": "EFJGqqcIHBqi",
        "colab": {}
      },
      "source": [
        "# --------------\n",
        "# Point 1\n",
        "# --------------\n",
        "def bellman_operator(Q0, Ns, Na, R, P, gamma):\n",
        "  if len(R.shape) == 3:\n",
        "    Reward_Matrix = np.zeros((Ns, Na))\n",
        "    for i in range(Ns):\n",
        "      for j in range(Na):\n",
        "        Reward_Matrix[i,j] = reward_action(i,j,R,P,Ns)\n",
        "    R = Reward_Matrix\n",
        "  Q1 = np.zeros((Ns, Na))\n",
        "  vecMax = np.max(Q0, axis = 1)\n",
        "  for i in range(Ns):\n",
        "    for j in range(Na):\n",
        "      Q1[i,j] = R[i,j] + gamma * np.dot((P[i,j]), vecMax)\n",
        "  greedy_policy = np.argmax(Q1, axis = 1)\n",
        "  return Q1, greedy_policy"
      ],
      "execution_count": 0,
      "outputs": []
    },
    {
      "cell_type": "code",
      "metadata": {
        "id": "jj65cQk5OPf0",
        "colab_type": "code",
        "colab": {}
      },
      "source": [
        "# --------------\n",
        "# Point 2\n",
        "# --------------\n",
        "def value_iteration(Q0, env, epsilon=1e-5):\n",
        "  Q = bellman_operator(Q0, env.Ns, env.Na, env.R, env.P, env.gamma)[0]\n",
        "  Q_history = [Q0, Q]\n",
        "\n",
        "  while np.linalg.norm(Q - Q0, np.inf) > epsilon:\n",
        "    Q0 = Q\n",
        "    Q, greedy_policy = bellman_operator(Q0, env.Ns, env.Na, env.R, env.P, env.gamma)\n",
        "    Q_history.append(Q)\n",
        "  return Q, greedy_policy, Q_history"
      ],
      "execution_count": 0,
      "outputs": []
    },
    {
      "cell_type": "code",
      "metadata": {
        "id": "W_lBe6q6OPf2",
        "colab_type": "code",
        "colab": {
          "base_uri": "https://localhost:8080/",
          "height": 312
        },
        "outputId": "1fd0c8ee-0dca-4b40-f566-4327c1b71898"
      },
      "source": [
        "# --------------\n",
        "# Point 3\n",
        "# --------------\n",
        "with open(\"./mvarl_hands_on/data/Q_opts.json\", \"r\") as fp:\n",
        "    Qopts = json.load(fp)\n",
        "Qstar = Qopts[\"{}_{}\".format(type(env).__name__,env.gamma)]\n",
        "Q0 = np.random.rand(env.Ns, env.Na)\n",
        "Q, greedy_policy, Q_history = value_iteration(Q0, env)\n",
        "\n",
        "norm_values = [np.linalg.norm(Qstar - el, np.inf) for el in Q_history]\n",
        "\n",
        "plt.plot(norm_values)\n",
        "plt.xlabel('Iteration')\n",
        "plt.ylabel('Error')\n",
        "plt.title(\"Q-learning: Convergence of Q\")"
      ],
      "execution_count": 57,
      "outputs": [
        {
          "output_type": "execute_result",
          "data": {
            "text/plain": [
              "Text(0.5, 1.0, 'Q-learning: Convergence of Q')"
            ]
          },
          "metadata": {
            "tags": []
          },
          "execution_count": 57
        },
        {
          "output_type": "display_data",
          "data": {
            "image/png": "[encoded data removed]",
            "text/plain": [
              "<Figure size 432x288 with 1 Axes>"
            ]
          },
          "metadata": {
            "tags": []
          }
        }
      ]
    },
    {
      "cell_type": "code",
      "metadata": {
        "id": "FbzFs3tDvcJy",
        "colab_type": "code",
        "colab": {
          "base_uri": "https://localhost:8080/",
          "height": 1000
        },
        "outputId": "77a5379f-c05f-4f10-95ad-88101785a497"
      },
      "source": [
        "state = env.reset()\n",
        "env.render()\n",
        "for i in range(50):\n",
        "    action = greedy_policy[state]\n",
        "    state, reward, done, _ = env.step(action)\n",
        "    env.render()"
      ],
      "execution_count": 58,
      "outputs": [
        {
          "output_type": "stream",
          "text": [
            "+-----------------------+\n",
            "| : : : : : : : : : : : |\n",
            "| : : : : : : : : : : : |\n",
            "| : : : : : : : : : : : |\n",
            "|\u001b[43mS\u001b[0m:x:x:x:x:x:x:x:x:x:x:G|\n",
            "+-----------------------+\n",
            "\n",
            "+-----------------------+\n",
            "| : : : : : : : : : : : |\n",
            "| : : : : : : : : : : : |\n",
            "|\u001b[43m_\u001b[0m: : : : : : : : : : : |\n",
            "|S:x:x:x:x:x:x:x:x:x:x:G|\n",
            "+-----------------------+\n",
            "  (up)\n",
            "+-----------------------+\n",
            "| : : : : : : : : : : : |\n",
            "| : : : : : : : : : : : |\n",
            "| :\u001b[43m_\u001b[0m: : : : : : : : : : |\n",
            "|S:x:x:x:x:x:x:x:x:x:x:G|\n",
            "+-----------------------+\n",
            "  (right)\n",
            "+-----------------------+\n",
            "| : : : : : : : : : : : |\n",
            "| : : : : : : : : : : : |\n",
            "| : :\u001b[43m_\u001b[0m: : : : : : : : : |\n",
            "|S:x:x:x:x:x:x:x:x:x:x:G|\n",
            "+-----------------------+\n",
            "  (right)\n",
            "+-----------------------+\n",
            "| : : : : : : : : : : : |\n",
            "| : : : : : : : : : : : |\n",
            "| : : :\u001b[43m_\u001b[0m: : : : : : : : |\n",
            "|S:x:x:x:x:x:x:x:x:x:x:G|\n",
            "+-----------------------+\n",
            "  (right)\n",
            "+-----------------------+\n",
            "| : : : : : : : : : : : |\n",
            "| : : : : : : : : : : : |\n",
            "| : : : :\u001b[43m_\u001b[0m: : : : : : : |\n",
            "|S:x:x:x:x:x:x:x:x:x:x:G|\n",
            "+-----------------------+\n",
            "  (right)\n",
            "+-----------------------+\n",
            "| : : : : : : : : : : : |\n",
            "| : : : : : : : : : : : |\n",
            "| : : : : :\u001b[43m_\u001b[0m: : : : : : |\n",
            "|S:x:x:x:x:x:x:x:x:x:x:G|\n",
            "+-----------------------+\n",
            "  (right)\n",
            "+-----------------------+\n",
            "| : : : : : : : : : : : |\n",
            "| : : : : : : : : : : : |\n",
            "| : : : : : :\u001b[43m_\u001b[0m: : : : : |\n",
            "|S:x:x:x:x:x:x:x:x:x:x:G|\n",
            "+-----------------------+\n",
            "  (right)\n",
            "+-----------------------+\n",
            "| : : : : : : : : : : : |\n",
            "| : : : : : : : : : : : |\n",
            "| : : : : : : :\u001b[43m_\u001b[0m: : : : |\n",
            "|S:x:x:x:x:x:x:x:x:x:x:G|\n",
            "+-----------------------+\n",
            "  (right)\n",
            "+-----------------------+\n",
            "| : : : : : : : : : : : |\n",
            "| : : : : : : : : : : : |\n",
            "| : : : : : : : :\u001b[43m_\u001b[0m: : : |\n",
            "|S:x:x:x:x:x:x:x:x:x:x:G|\n",
            "+-----------------------+\n",
            "  (right)\n",
            "+-----------------------+\n",
            "| : : : : : : : : : : : |\n",
            "| : : : : : : : : : : : |\n",
            "| : : : : : : : : :\u001b[43m_\u001b[0m: : |\n",
            "|S:x:x:x:x:x:x:x:x:x:x:G|\n",
            "+-----------------------+\n",
            "  (right)\n",
            "+-----------------------+\n",
            "| : : : : : : : : : : : |\n",
            "| : : : : : : : : : : : |\n",
            "| : : : : : : : : : :\u001b[43m_\u001b[0m: |\n",
            "|S:x:x:x:x:x:x:x:x:x:x:G|\n",
            "+-----------------------+\n",
            "  (right)\n",
            "+-----------------------+\n",
            "| : : : : : : : : : : : |\n",
            "| : : : : : : : : : : : |\n",
            "| : : : : : : : : : : :\u001b[43m_\u001b[0m|\n",
            "|S:x:x:x:x:x:x:x:x:x:x:G|\n",
            "+-----------------------+\n",
            "  (right)\n",
            "+-----------------------+\n",
            "| : : : : : : : : : : : |\n",
            "| : : : : : : : : : : : |\n",
            "| : : : : : : : : : : : |\n",
            "|S:x:x:x:x:x:x:x:x:x:x:\u001b[42mG\u001b[0m|\n",
            "+-----------------------+\n",
            "  (down)\n",
            "+-----------------------+\n",
            "| : : : : : : : : : : : |\n",
            "| : : : : : : : : : : : |\n",
            "| : : : : : : : : : : : |\n",
            "|\u001b[43mS\u001b[0m:x:x:x:x:x:x:x:x:x:x:G|\n",
            "+-----------------------+\n",
            "  (right)\n",
            "+-----------------------+\n",
            "| : : : : : : : : : : : |\n",
            "| : : : : : : : : : : : |\n",
            "|\u001b[43m_\u001b[0m: : : : : : : : : : : |\n",
            "|S:x:x:x:x:x:x:x:x:x:x:G|\n",
            "+-----------------------+\n",
            "  (up)\n",
            "+-----------------------+\n",
            "| : : : : : : : : : : : |\n",
            "| : : : : : : : : : : : |\n",
            "| :\u001b[43m_\u001b[0m: : : : : : : : : : |\n",
            "|S:x:x:x:x:x:x:x:x:x:x:G|\n",
            "+-----------------------+\n",
            "  (right)\n",
            "+-----------------------+\n",
            "| : : : : : : : : : : : |\n",
            "| : : : : : : : : : : : |\n",
            "| : :\u001b[43m_\u001b[0m: : : : : : : : : |\n",
            "|S:x:x:x:x:x:x:x:x:x:x:G|\n",
            "+-----------------------+\n",
            "  (right)\n",
            "+-----------------------+\n",
            "| : : : : : : : : : : : |\n",
            "| : : : : : : : : : : : |\n",
            "| : : :\u001b[43m_\u001b[0m: : : : : : : : |\n",
            "|S:x:x:x:x:x:x:x:x:x:x:G|\n",
            "+-----------------------+\n",
            "  (right)\n",
            "+-----------------------+\n",
            "| : : : : : : : : : : : |\n",
            "| : : : : : : : : : : : |\n",
            "| : : : :\u001b[43m_\u001b[0m: : : : : : : |\n",
            "|S:x:x:x:x:x:x:x:x:x:x:G|\n",
            "+-----------------------+\n",
            "  (right)\n",
            "+-----------------------+\n",
            "| : : : : : : : : : : : |\n",
            "| : : : : : : : : : : : |\n",
            "| : : : : :\u001b[43m_\u001b[0m: : : : : : |\n",
            "|S:x:x:x:x:x:x:x:x:x:x:G|\n",
            "+-----------------------+\n",
            "  (right)\n",
            "+-----------------------+\n",
            "| : : : : : : : : : : : |\n",
            "| : : : : : : : : : : : |\n",
            "| : : : : : :\u001b[43m_\u001b[0m: : : : : |\n",
            "|S:x:x:x:x:x:x:x:x:x:x:G|\n",
            "+-----------------------+\n",
            "  (right)\n",
            "+-----------------------+\n",
            "| : : : : : : : : : : : |\n",
            "| : : : : : : : : : : : |\n",
            "| : : : : : : :\u001b[43m_\u001b[0m: : : : |\n",
            "|S:x:x:x:x:x:x:x:x:x:x:G|\n",
            "+-----------------------+\n",
            "  (right)\n",
            "+-----------------------+\n",
            "| : : : : : : : : : : : |\n",
            "| : : : : : : : : : : : |\n",
            "| : : : : : : : :\u001b[43m_\u001b[0m: : : |\n",
            "|S:x:x:x:x:x:x:x:x:x:x:G|\n",
            "+-----------------------+\n",
            "  (right)\n",
            "+-----------------------+\n",
            "| : : : : : : : : : : : |\n",
            "| : : : : : : : : : : : |\n",
            "| : : : : : : : : :\u001b[43m_\u001b[0m: : |\n",
            "|S:x:x:x:x:x:x:x:x:x:x:G|\n",
            "+-----------------------+\n",
            "  (right)\n",
            "+-----------------------+\n",
            "| : : : : : : : : : : : |\n",
            "| : : : : : : : : : : : |\n",
            "| : : : : : : : : : :\u001b[43m_\u001b[0m: |\n",
            "|S:x:x:x:x:x:x:x:x:x:x:G|\n",
            "+-----------------------+\n",
            "  (right)\n",
            "+-----------------------+\n",
            "| : : : : : : : : : : : |\n",
            "| : : : : : : : : : : : |\n",
            "| : : : : : : : : : : :\u001b[43m_\u001b[0m|\n",
            "|S:x:x:x:x:x:x:x:x:x:x:G|\n",
            "+-----------------------+\n",
            "  (right)\n",
            "+-----------------------+\n",
            "| : : : : : : : : : : : |\n",
            "| : : : : : : : : : : : |\n",
            "| : : : : : : : : : : : |\n",
            "|S:x:x:x:x:x:x:x:x:x:x:\u001b[42mG\u001b[0m|\n",
            "+-----------------------+\n",
            "  (down)\n",
            "+-----------------------+\n",
            "| : : : : : : : : : : : |\n",
            "| : : : : : : : : : : : |\n",
            "| : : : : : : : : : : : |\n",
            "|\u001b[43mS\u001b[0m:x:x:x:x:x:x:x:x:x:x:G|\n",
            "+-----------------------+\n",
            "  (right)\n",
            "+-----------------------+\n",
            "| : : : : : : : : : : : |\n",
            "| : : : : : : : : : : : |\n",
            "|\u001b[43m_\u001b[0m: : : : : : : : : : : |\n",
            "|S:x:x:x:x:x:x:x:x:x:x:G|\n",
            "+-----------------------+\n",
            "  (up)\n",
            "+-----------------------+\n",
            "| : : : : : : : : : : : |\n",
            "| : : : : : : : : : : : |\n",
            "| :\u001b[43m_\u001b[0m: : : : : : : : : : |\n",
            "|S:x:x:x:x:x:x:x:x:x:x:G|\n",
            "+-----------------------+\n",
            "  (right)\n",
            "+-----------------------+\n",
            "| : : : : : : : : : : : |\n",
            "| : : : : : : : : : : : |\n",
            "| : :\u001b[43m_\u001b[0m: : : : : : : : : |\n",
            "|S:x:x:x:x:x:x:x:x:x:x:G|\n",
            "+-----------------------+\n",
            "  (right)\n",
            "+-----------------------+\n",
            "| : : : : : : : : : : : |\n",
            "| : : : : : : : : : : : |\n",
            "| : : :\u001b[43m_\u001b[0m: : : : : : : : |\n",
            "|S:x:x:x:x:x:x:x:x:x:x:G|\n",
            "+-----------------------+\n",
            "  (right)\n",
            "+-----------------------+\n",
            "| : : : : : : : : : : : |\n",
            "| : : : : : : : : : : : |\n",
            "| : : : :\u001b[43m_\u001b[0m: : : : : : : |\n",
            "|S:x:x:x:x:x:x:x:x:x:x:G|\n",
            "+-----------------------+\n",
            "  (right)\n",
            "+-----------------------+\n",
            "| : : : : : : : : : : : |\n",
            "| : : : : : : : : : : : |\n",
            "| : : : : :\u001b[43m_\u001b[0m: : : : : : |\n",
            "|S:x:x:x:x:x:x:x:x:x:x:G|\n",
            "+-----------------------+\n",
            "  (right)\n",
            "+-----------------------+\n",
            "| : : : : : : : : : : : |\n",
            "| : : : : : : : : : : : |\n",
            "| : : : : : :\u001b[43m_\u001b[0m: : : : : |\n",
            "|S:x:x:x:x:x:x:x:x:x:x:G|\n",
            "+-----------------------+\n",
            "  (right)\n",
            "+-----------------------+\n",
            "| : : : : : : : : : : : |\n",
            "| : : : : : : : : : : : |\n",
            "| : : : : : : :\u001b[43m_\u001b[0m: : : : |\n",
            "|S:x:x:x:x:x:x:x:x:x:x:G|\n",
            "+-----------------------+\n",
            "  (right)\n",
            "+-----------------------+\n",
            "| : : : : : : : : : : : |\n",
            "| : : : : : : : : : : : |\n",
            "| : : : : : : : :\u001b[43m_\u001b[0m: : : |\n",
            "|S:x:x:x:x:x:x:x:x:x:x:G|\n",
            "+-----------------------+\n",
            "  (right)\n",
            "+-----------------------+\n",
            "| : : : : : : : : : : : |\n",
            "| : : : : : : : : : : : |\n",
            "| : : : : : : : : :\u001b[43m_\u001b[0m: : |\n",
            "|S:x:x:x:x:x:x:x:x:x:x:G|\n",
            "+-----------------------+\n",
            "  (right)\n",
            "+-----------------------+\n",
            "| : : : : : : : : : : : |\n",
            "| : : : : : : : : : : : |\n",
            "| : : : : : : : : : :\u001b[43m_\u001b[0m: |\n",
            "|S:x:x:x:x:x:x:x:x:x:x:G|\n",
            "+-----------------------+\n",
            "  (right)\n",
            "+-----------------------+\n",
            "| : : : : : : : : : : : |\n",
            "| : : : : : : : : : : : |\n",
            "| : : : : : : : : : : :\u001b[43m_\u001b[0m|\n",
            "|S:x:x:x:x:x:x:x:x:x:x:G|\n",
            "+-----------------------+\n",
            "  (right)\n",
            "+-----------------------+\n",
            "| : : : : : : : : : : : |\n",
            "| : : : : : : : : : : : |\n",
            "| : : : : : : : : : : : |\n",
            "|S:x:x:x:x:x:x:x:x:x:x:\u001b[42mG\u001b[0m|\n",
            "+-----------------------+\n",
            "  (down)\n",
            "+-----------------------+\n",
            "| : : : : : : : : : : : |\n",
            "| : : : : : : : : : : : |\n",
            "| : : : : : : : : : : : |\n",
            "|\u001b[43mS\u001b[0m:x:x:x:x:x:x:x:x:x:x:G|\n",
            "+-----------------------+\n",
            "  (right)\n",
            "+-----------------------+\n",
            "| : : : : : : : : : : : |\n",
            "| : : : : : : : : : : : |\n",
            "|\u001b[43m_\u001b[0m: : : : : : : : : : : |\n",
            "|S:x:x:x:x:x:x:x:x:x:x:G|\n",
            "+-----------------------+\n",
            "  (up)\n",
            "+-----------------------+\n",
            "| : : : : : : : : : : : |\n",
            "| : : : : : : : : : : : |\n",
            "| :\u001b[43m_\u001b[0m: : : : : : : : : : |\n",
            "|S:x:x:x:x:x:x:x:x:x:x:G|\n",
            "+-----------------------+\n",
            "  (right)\n",
            "+-----------------------+\n",
            "| : : : : : : : : : : : |\n",
            "| : : : : : : : : : : : |\n",
            "| : :\u001b[43m_\u001b[0m: : : : : : : : : |\n",
            "|S:x:x:x:x:x:x:x:x:x:x:G|\n",
            "+-----------------------+\n",
            "  (right)\n",
            "+-----------------------+\n",
            "| : : : : : : : : : : : |\n",
            "| : : : : : : : : : : : |\n",
            "| : : :\u001b[43m_\u001b[0m: : : : : : : : |\n",
            "|S:x:x:x:x:x:x:x:x:x:x:G|\n",
            "+-----------------------+\n",
            "  (right)\n",
            "+-----------------------+\n",
            "| : : : : : : : : : : : |\n",
            "| : : : : : : : : : : : |\n",
            "| : : : :\u001b[43m_\u001b[0m: : : : : : : |\n",
            "|S:x:x:x:x:x:x:x:x:x:x:G|\n",
            "+-----------------------+\n",
            "  (right)\n",
            "+-----------------------+\n",
            "| : : : : : : : : : : : |\n",
            "| : : : : : : : : : : : |\n",
            "| : : : : :\u001b[43m_\u001b[0m: : : : : : |\n",
            "|S:x:x:x:x:x:x:x:x:x:x:G|\n",
            "+-----------------------+\n",
            "  (right)\n",
            "+-----------------------+\n",
            "| : : : : : : : : : : : |\n",
            "| : : : : : : : : : : : |\n",
            "| : : : : : :\u001b[43m_\u001b[0m: : : : : |\n",
            "|S:x:x:x:x:x:x:x:x:x:x:G|\n",
            "+-----------------------+\n",
            "  (right)\n",
            "+-----------------------+\n",
            "| : : : : : : : : : : : |\n",
            "| : : : : : : : : : : : |\n",
            "| : : : : : : :\u001b[43m_\u001b[0m: : : : |\n",
            "|S:x:x:x:x:x:x:x:x:x:x:G|\n",
            "+-----------------------+\n",
            "  (right)\n"
          ],
          "name": "stdout"
        }
      ]
    },
    {
      "cell_type": "markdown",
      "metadata": {
        "id": "azfXmRzZOPf4",
        "colab_type": "text"
      },
      "source": [
        "## Question 2: Q learning\n",
        "Q learning is a model-free algorithm for estimating the optimal Q-function online.\n",
        "It is an off-policy algorithm since the samples are collected with a policy that is (potentially) not the one associated to the estimated Q-function.\n",
        "\n",
        "1. Implement Q learning with $\\epsilon$-greedy exploration.\n",
        "  - Plot the error in Q-functions over iterations\n",
        "  - Plot the cumulative sum of rewards"
      ]
    },
    {
      "cell_type": "code",
      "metadata": {
        "id": "_t3WqIt-OPf5",
        "colab_type": "code",
        "colab": {}
      },
      "source": [
        "# ---------------------------\n",
        "# Q-Learning\n",
        "# ---------------------------\n",
        "# suggested interface\n",
        "# you can change it!\n",
        "class QLearning:\n",
        "\n",
        "  def __init__(self, Q):\n",
        "      self.Q = Q\n",
        "  \n",
        "  def sample_action(self, state, eps): \n",
        "    u = np.random.rand(1)[0]\n",
        "    if(u > 1 - eps):\n",
        "      return np.argmax(self.Q[state, :])\n",
        "    else:\n",
        "      return int(u * self.Q.shape[1]/(1 - eps))\n",
        "      \n",
        "  \n",
        "  def update(self, state, action, next_state, reward, t, gamma, alpha):\n",
        "      delta = reward + gamma*np.max(self.Q[next_state, :]) - self.Q[state, action]\n",
        "      self.Q[state, action] = self.Q[state, action] + delta*alpha  "
      ],
      "execution_count": 0,
      "outputs": []
    },
    {
      "cell_type": "code",
      "metadata": {
        "id": "CKTc5nWIOPf6",
        "colab_type": "code",
        "colab": {
          "base_uri": "https://localhost:8080/",
          "height": 513
        },
        "outputId": "8eb57516-5596-482a-8a83-4ce78f3d4dad"
      },
      "source": [
        "# --------------\n",
        "# Point 1\n",
        "# --------------\n",
        "# Number of Q learning steps\n",
        "max_steps = int(1e5)  \n",
        "# max_steps = 10\n",
        "\n",
        "Q0 = np.zeros((env.Ns, env.Na))\n",
        "# Use the previous code to verify the correctness of q learning\n",
        "Q_opt, pi_opt, _ = value_iteration(Q0, env, epsilon=1e-8)\n",
        "\n",
        "\n",
        "# main algorithmic loop\n",
        "norm_values = []\n",
        "n = 100\n",
        "eps = 0.3\n",
        "ql = QLearning(Q0)\n",
        "T = []\n",
        "for i in range(n):\n",
        "    nb_visit = np.zeros((env.Ns, env.Na))\n",
        "    s0 = env.reset()\n",
        "    done = False\n",
        "    t = 1\n",
        "    while t < max_steps and not done:\n",
        "        T.append(t)\n",
        "        action = ql.sample_action(s0, eps)\n",
        "        observation, reward, done, info = env.step(action)\n",
        "        s1 = observation\n",
        "        nb_visit[s0, action] += 1\n",
        "        alpha = 1/nb_visit[s0, action]\n",
        "        ql.update(s0, action, s1, reward, t, env.gamma, alpha)\n",
        "        s0 = s1\n",
        "        t = t + 1\n",
        "    norm_values.append(np.abs(ql.Q - Q_opt).mean())\n",
        "    \n",
        "print(env.render())\n",
        "print(\"optimal policy: \", pi_opt)\n",
        "greedy_policy = np.argmax(ql.Q, axis=1)\n",
        "print(\"est policy:\", greedy_policy)\n",
        "\n",
        "\n",
        "plt.plot(norm_values)\n",
        "plt.xlabel('Iteration')\n",
        "plt.ylabel('Error')\n",
        "plt.title(\"Q-learning: Convergence of Q\")\n",
        "\n",
        "# how confident are you in the performance of the algorithm? maybe a single run is not enough"
      ],
      "execution_count": 60,
      "outputs": [
        {
          "output_type": "stream",
          "text": [
            "+-----------------------+\n",
            "| : : : : : : : : : : : |\n",
            "| : : : : : : : : : : : |\n",
            "| : : : : : : : : : : : |\n",
            "|S:x:x:x:x:x:x:x:x:x:x:\u001b[42mG\u001b[0m|\n",
            "+-----------------------+\n",
            "  (right)\n",
            "None\n",
            "optimal policy:  [0 0 0 0 0 0 0 0 0 0 0 1 0 0 0 0 0 0 0 0 0 0 0 1 0 0 0 0 0 0 0 0 0 0 0 1 3\n",
            " 3 3 3 3 3 3 3 3 3 0 0]\n",
            "est policy: [0 0 0 3 0 0 3 3 2 2 2 0 3 2 1 0 0 3 3 3 3 2 2 2 3 3 0 0 2 2 3 3 2 3 2 2 1\n",
            " 3 3 3 3 3 3 3 3 3 2 0]\n"
          ],
          "name": "stdout"
        },
        {
          "output_type": "execute_result",
          "data": {
            "text/plain": [
              "Text(0.5, 1.0, 'Q-learning: Convergence of Q')"
            ]
          },
          "metadata": {
            "tags": []
          },
          "execution_count": 60
        },
        {
          "output_type": "display_data",
          "data": {
            "image/png": "[encoded data removed]",
            "text/plain": [
              "<Figure size 432x288 with 1 Axes>"
            ]
          },
          "metadata": {
            "tags": []
          }
        }
      ]
    },
    {
      "cell_type": "code",
      "metadata": {
        "id": "K4BTIlpYIQlh",
        "colab_type": "code",
        "colab": {}
      },
      "source": [
        ""
      ],
      "execution_count": 0,
      "outputs": []
    }
  ]
}